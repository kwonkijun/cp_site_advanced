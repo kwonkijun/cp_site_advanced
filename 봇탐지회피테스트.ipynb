{
 "cells": [
  {
   "cell_type": "code",
   "execution_count": 16,
   "metadata": {},
   "outputs": [
    {
     "name": "stdout",
     "output_type": "stream",
     "text": [
      "획득한 js_token: c79b2bfe2e8b46c43d2fde40823abcea\n",
      "정상 응답: [{'article_area_name': '26B', 'article_area_size': 16, 'article_deal_or_warrant_price': '2억 2,000', 'article_deal_price': 22000, 'article_desc': '역세권 즉시입주가능 물건', 'article_detail_desc': '- 선릉역 도보5분이내\\n\\n- 위치가 좋아 공실걱정없는 임차수요\\n\\n- 24시간 경비순찰/ 안정적인 치안\\n\\n- 현 임차인 거주 / 매매시 바로 입주가능\\n\\n---------------------------------------------------------------------\\n매물담당 : ☎ 02-501-4568\\n---------------------------------------------------------------------\\n\\n▶ 담당자에게 전화주시면 사전 예약 후 직접 안내해 드리겠습니다◀\\n\\u200b\\u200b\\nㆍㆍ 더 퍼플 부동산 ㆍㆍ \\n\\u200b\\n삶의 여정과 아름다운 순간들이\\n고스란히 담긴 공간은  당신의 미래를 만듭니다. \\n새로운 시작을 꿈꾸시는 분들께 \\n더 퍼플이 함께하겠습니다. \\n\\u200b\\u200b\\n고급주거, 하이엔드주거 전문 부동산입니다.\\n고객님의 프라이버시와 만족을 최우선으로 생각합니다.\\n\\n성북동 매물 다수보유 및 2024년 다수계약체결\\n성심성의껏 상담해 드리겠습니다.\\n\\u200b\\n찾으시는 매물의 조건을 말씀주시면\\n최고의 매물을 찾아 소개드리겠습니다.\\n---------------------------------------------------------------------\\n블로그: https://m.blog.naver.com/bora_house\\n유튜브: 더 퍼플 부동산 검색🔎 \\n인스타그램: @thepurple_realty', 'article_direction': '남동향', 'article_exclusive_rate': '64', 'article_exclusive_space': 16.94, 'article_expandable': True, 'article_floor': '4/14', 'article_name': 'K타워(도시형)', 'article_no': '2456802095', 'article_price_by_space': 2760.0, 'article_realtor_address': '서울특별시 강남구 대치동 889-41', 'article_realtor_name': '더퍼플공인중개사사무소', 'article_supply_space': 26.34, 'article_type_name': '아파트'}, {'article_area_name': '26B', 'article_area_size': 16, 'article_deal_or_warrant_price': '2억 1,000', 'article_deal_price': 21000, 'article_desc': '급매 임대 잘나가고 인기 많은 오피스텔 선릉역 5분거리', 'article_detail_desc': '＊ 선릉역 도보 5분 거리 위치\\n\\n＊ 월세, 전세 임대 잘 맞춰지는 오피스텔입니다\\n\\n＊ 입주관계는 즉시 및 협의 가능합니다\\n\\n＊ 주변 먹거리, 편의시설 등 많습니다\\n\\n＊ 주차는 기계식이며, 내부는 풀옵션으로 되어 있습니다\\n\\n＊ 전화주시면 더욱 자세히 상담드리겠습니다', 'article_direction': '남동향', 'article_exclusive_rate': '64', 'article_exclusive_space': 16.94, 'article_expandable': True, 'article_floor': '4/14', 'article_name': 'K타워(도시형)', 'article_no': '2456645976', 'article_price_by_space': 2635.0, 'article_realtor_address': '서울특별시 강남구 역삼로63길 6 2층', 'article_realtor_name': '뉴황금공인중개사사무소', 'article_supply_space': 26.34, 'article_type_name': '아파트'}, {'article_area_name': '108B', 'article_area_size': 84, 'article_deal_or_warrant_price': '15억', 'article_deal_price': 150000, 'article_desc': '강남역 역세권 리모델링된 주상복합아파트', 'article_detail_desc': '- 강남역 4번출구 300m 도보 5분거리\\n- 에어컨, 빌트인 김치냉장고 되어있습니다.\\n- 내부 방진 벽지 및 욕조 리모델링 완료\\n- 내부 전체 LED등으로 교체되어 전기세 절감\\n- 바닥 전체 천연 수입원목(플로어스코어 1등급)\\n- 거실 및 안방,작은방 확장으로 내부 크기 최대\\n- 대로변 주상복합 건물로 안전\\n\\n상세사항 문의는 전화로 상담 부탁드립니다\\n010-7482-7800', 'article_direction': '서향', 'article_exclusive_rate': '78', 'article_exclusive_space': 84.99, 'article_expandable': False, 'article_floor': '7/15', 'article_name': 'SK허브젠(주상복합)', 'article_no': '2460477200', 'article_price_by_space': 4575.0, 'article_realtor_address': '서울특별시 강남구 강남대로 328 1층 110호 (역삼동)', 'article_realtor_name': '빌딩나비강남역쉐르빌부동산중개주식회사', 'article_supply_space': 108.4, 'article_type_name': '아파트'}, {'article_area_name': '108A', 'article_area_size': 84, 'article_deal_or_warrant_price': '18억 8,000', 'article_deal_price': 188000, 'article_desc': None, 'article_detail_desc': '직접매물O.강남역세권 갭투자아파트매매입니다\\r\\n\\r\\n매도인이 직접 거주하시며 수입벽지,붙박이장까지 올수리하셨던 아파트입니다\\r\\n\\r\\n\\r\\n남향고층으로 채광좋습니다\\r\\n\\r\\n자주식주차장,창고가 별도로 제공되는 차별화된 아파트입니다\\r\\n\\r\\n신분당선,2호선 더블역세권에 교통망,학군,학권가,삼성 등 편리한 주거환경입니다\\r\\n\\r\\n계속 관리해드린 호실로 매매시 금액조율 가능합니다', 'article_direction': '남향', 'article_exclusive_rate': '78', 'article_exclusive_space': 84.99, 'article_expandable': False, 'article_floor': '11/15', 'article_name': 'SK허브젠(주상복합)', 'article_no': '2461781941', 'article_price_by_space': 5733.0, 'article_realtor_address': '서울 강남구 역삼동827-14 1층 102-2호(역삼동, 프레스티지투)', 'article_realtor_name': '강남플러스부동산중개법인', 'article_supply_space': 108.4, 'article_type_name': '아파트'}, {'article_area_name': '104A', 'article_area_size': 78, 'article_deal_or_warrant_price': '13억', 'article_deal_price': 130000, 'article_desc': '특올수리,주인직접, 빠른 입주, 양재강남역, 한티 근접', 'article_detail_desc': '특올수리,주인직접, 빠른 입주, 양재/강남역, 한티 근접\\r\\n\\r\\n◆주차대수 : 총113대(세대당1.7대)\\r\\n◆층수 : 지상10층(지하4층)\\r\\n◆사용승인일 : 2012/08/31\\r\\n◆교통 : 역삼역이 도보14분거리며 걸어서 4분내에 여러버스정류 \\r\\n장이  있슴\\r\\n◆학군 : 역삼초 도보로 9분, 연주초 12분 소요\\r\\n◆주변에 고급 빌딩과 유명음식점, 카페들이 모여 있어 현대적인 \\r\\n분위기를 느낄수 있는 곳이며 밤만 되면 화려한 래이브 클럽과 \\r\\n바들이 줄서 있어 열정적인 핫플레이스 분위기를 볼수 있습니다.\\r\\n\\r\\n◈ 관리비는 세대별, 계절별로 상이할 수 있으며, 매도인(임대인)이 관리비 내역을 미고지하여 세부내용을 알 수 없음\\r\\n\\r\\n▷ 구글/앱 스토어에서 ＂우대빵＂을 검색해 보세요\\r\\n\\r\\n▷ 계약시 10억 보증보험 보장!! \\r\\n\\r\\n◈ 아파트 매매/전,월세 전문 \\r\\n◈ 2023년 아파트 매물 수, 손님 수 1등 \\r\\n◈ 평균 거래기간 1개월 9일!\\r\\n◈ 계약부터~세무 / 대출 / 변호사 상담까지 원스톱 서비스\\r\\n\\r\\n궁금하신점은 언제든 연락 주세요\\r\\n\\r\\n중개사 등록 번호 제 11440-2023-00074-001 호', 'article_direction': '남서향', 'article_exclusive_rate': '75', 'article_exclusive_space': 78.57, 'article_expandable': True, 'article_floor': '6/10', 'article_name': '강남서해그랑블(주상복합)', 'article_no': '2460813114', 'article_price_by_space': 4098.0, 'article_realtor_address': '서울 강남구 언주로 425,2층', 'article_realtor_name': '주식회사 우대빵부동산중개센터 강남지점', 'article_supply_space': 104.85, 'article_type_name': '아파트'}, {'article_area_name': '104A', 'article_area_size': 78, 'article_deal_or_warrant_price': '13억', 'article_deal_price': 130000, 'article_desc': '주인직접 올수리 교통 우수', 'article_detail_desc': '* 올수리되어 컨디션최상\\n\\n* 교통 교육환경 우수\\n\\n* 입주협의가능\\n\\n궁금한 점 있으시면 편하게 연락주세요~~\\n\\n☎ 02-538-7800\\n부동산중개빌딩나비강남역쉐르빌(주)', 'article_direction': '남향', 'article_exclusive_rate': '75', 'article_exclusive_space': 78.57, 'article_expandable': True, 'article_floor': '6/10', 'article_name': '강남서해그랑블(주상복합)', 'article_no': '2460519930', 'article_price_by_space': 4098.0, 'article_realtor_address': '서울특별시 강남구 강남대로 328 1층 110호 (역삼동)', 'article_realtor_name': '빌딩나비강남역쉐르빌부동산중개주식회사', 'article_supply_space': 104.85, 'article_type_name': '아파트'}, {'article_area_name': '104A', 'article_area_size': 78, 'article_deal_or_warrant_price': '13억', 'article_deal_price': 130000, 'article_desc': '특올수리 실속아파트 2호선 수인분당선 역세권 모두 갖춘 인프라', 'article_detail_desc': '전화로 문의주시면 친절히 안내해드리겠습니다. \\r\\n가격조정가 \\r\\n특올수리 해놓음 \\r\\n부자부동산', 'article_direction': '남향', 'article_exclusive_rate': '75', 'article_exclusive_space': 78.57, 'article_expandable': True, 'article_floor': '6/10', 'article_name': '강남서해그랑블(주상복합)', 'article_no': '2460211781', 'article_price_by_space': 4098.0, 'article_realtor_address': '서울 강남구 대치동1030 1층 S109호 (대치동 상가)', 'article_realtor_name': '부자부동산공인중개사사무소', 'article_supply_space': 104.85, 'article_type_name': '아파트'}, {'article_area_name': '104A', 'article_area_size': 78, 'article_deal_or_warrant_price': '13억', 'article_deal_price': 130000, 'article_desc': '역삼역인근 깔끔한매물 거주,교육환경 좋아요', 'article_detail_desc': '-올 리모델링 완료\\n- 내부깔끔한 관리잘된매물\\n- 역삼초 도곡중 인근 교육환경좋아요\\n- 도곡공원 인근 상쾌한 숲세권\\n- 8월말 입주가능 (협의가능)\\n\\n\\n○●서울시 서초구 잠원동 34-14 1F SD공인중개사사무소입니다○●\\n\\n★책임중개,  성실중개 , 연중24시중개 중이며\\n\\n★평일,공휴일 기준없이 고객이 기준이 되는 SD부동산입니다.\\n\\n★의뢰상담 및 부동산상담 편하게 연락주세요 감사합니다.\\n', 'article_direction': '남향', 'article_exclusive_rate': '75', 'article_exclusive_space': 78.57, 'article_expandable': True, 'article_floor': '중/10', 'article_name': '강남서해그랑블(주상복합)', 'article_no': '2461115789', 'article_price_by_space': 4098.0, 'article_realtor_address': '서울특별시 서초구 잠원동 34-14 1층 01호', 'article_realtor_name': '에스디(SD)공인중개사 사무소', 'article_supply_space': 104.85, 'article_type_name': '아파트'}, {'article_area_name': '104A', 'article_area_size': 78, 'article_deal_or_warrant_price': '13억', 'article_deal_price': 130000, 'article_desc': '올수리된집 주인매물 입주협의가능', 'article_detail_desc': '', 'article_direction': '남서향', 'article_exclusive_rate': '75', 'article_exclusive_space': 78.57, 'article_expandable': True, 'article_floor': '6/10', 'article_name': '강남서해그랑블(주상복합)', 'article_no': '2459776757', 'article_price_by_space': 4098.0, 'article_realtor_address': '서울특별시 강남구 선릉로 571,지하2층 1호(역삼동)', 'article_realtor_name': '신한공인중개사사무소', 'article_supply_space': 104.85, 'article_type_name': '아파트'}, {'article_area_name': '161B', 'article_area_size': 125, 'article_deal_or_warrant_price': '45억', 'article_deal_price': 450000, 'article_desc': '세대분리가능 올확장 시스템에어컨 도성초진선여중고 최고급커뮤니티', 'article_detail_desc': '> 선릉역세권 편리한 교통\\r\\n> 방4 화장실3 확장형의 넓은 구조 (세대분리형원룸포함)깔끔관리된 예쁜 남향집 시스템에어컨\\r\\n> 단지내  최고급커뮤니티시설 (피트시스센터, 실내골프장, 주민도서관, 스터디카페등)\\r\\n> 도성초 역삼중 진선여중고등 우수학군\\r\\n> 이마트 맛집 카페 은행등 생활편의시설 도보5분이내\\r\\n> 빠른입주가능\\r\\n\\r\\n**강남최고 공인중개사사무소는 \\r\\n빠르고 정확한 정보와 책임있는 중개로 고객님께 보답합니다\\r\\n\\r\\n  담당 공인중개사 최임희 010-4212-3562', 'article_direction': '남향', 'article_exclusive_rate': '78', 'article_exclusive_space': 125.41, 'article_expandable': True, 'article_floor': '13/35', 'article_name': '강남센트럴아이파크', 'article_no': '2461933668', 'article_price_by_space': 9202.0, 'article_realtor_address': '서울 강남구 언주로86길 11,305호(역삼동, 한화진넥스빌)', 'article_realtor_name': '강남최고공인중개사사무소', 'article_supply_space': 161.64, 'article_type_name': '아파트'}, {'article_area_name': '161B', 'article_area_size': 125, 'article_deal_or_warrant_price': '45억', 'article_deal_price': 450000, 'article_desc': '풀옵션 남향 방4화3 세대분리  전망예쁨 도성초 진선학군', 'article_detail_desc': '풀옵션 남향 방4화3 세대분리  전망예쁨 도성초 진선학군\\r\\n\\r\\n\\r\\n◆ 준공연일 2022.04  23평,24평,33평,44평,45평,48평,51평60평,66평으로 구성된 499세대입니다.\\r\\n◆ 교통 : 선릉역\\r\\n◆ 주변 : 도보 가능한 이마트 , 현대백화점을 비롯한 코엑스 상업지구 ,롯데백화점 ,세브란스 병원 등 다양한 편의시설\\r\\n◆ 학군 : 도성초, 진선여중고, 역삼중, 단대부고 등 우수학군\\r\\n◆ 입주민 전용 커뮤니티 : 피크니스센터, 사우나, 세대창고, 어린이집, 경로당\\r\\n\\r\\n◈ 관리비는 세대별, 계절별로 상이할 수 있으며, 매도인(임대인)이 관리비 내역을 미고지하여 세부내용을 알 수 없음\\r\\n\\r\\n▷ 구글/앱 스토어에서 ＂우대빵＂을 검색해 보세요\\r\\n\\r\\n▷ 계약시 10억 보증보험 보장!! \\r\\n\\r\\n◈ 아파트 매매/전,월세 전문 \\r\\n◈ 2023년 아파트 매물 수, 손님 수 1등 \\r\\n◈ 평균 거래기간 1개월 9일!\\r\\n◈ 계약부터~세무 / 대출 / 변호사 상담까지 원스톱 서비스\\r\\n\\r\\n궁금하신점은 언제든 연락 주세요\\r\\n\\r\\n중개사 등록 번호 제 11440-2023-00074-001 호', 'article_direction': '남향', 'article_exclusive_rate': '78', 'article_exclusive_space': 125.41, 'article_expandable': True, 'article_floor': '13/35', 'article_name': '강남센트럴아이파크', 'article_no': '2461968304', 'article_price_by_space': 9202.0, 'article_realtor_address': '서울 강남구 언주로 425,2층', 'article_realtor_name': '주식회사 우대빵부동산중개센터 강남지점', 'article_supply_space': 161.64, 'article_type_name': '아파트'}, {'article_area_name': '161B', 'article_area_size': 125, 'article_deal_or_warrant_price': '45억', 'article_deal_price': 450000, 'article_desc': '주인직매물 신축2년 올확장 풀에어컨 풀옵션 전망최상 도성초 진선여중고', 'article_detail_desc': '주인직매물\\n신축3년\\n올확장\\n풀에어컨\\n풀옵션\\n전망최상\\n도성초 진선여중고\\n\\n※커뮤니티 시설\\n피트니스센터 골프연습장 GX룸 당구장 탁구장 어린이집 경로당 입주민카페 \\n도서관 독서실등\\n\\n■오렌지공인중개사사무소■\\n\\n안녕하세요 따뜻하고 정직한 사장님과 \\n친절하고 믿음과 신뢰를 드리는 소장님이 근무하는\\n역삼푸르지오아파트 정문앞에 위치한\\n오렌지공인중개사사사무소입니다\\n\\n\\n전화주시면 친절하게 상담을 해드리겠습니다.\\n\\n【강남센트럴아이파크 아파트 단지 특징】\\n▷ 단지구성 -(25,33,45,49,60평) 499세대(총5개동)\\n▷ 주차대수 –903대(세대당1.8대)\\n▷ 동간 거리 여유있으며,4계절 아름다운 조경, 여유롭고 품격있는 아파트\\n▷ 단지에서 초,중,고가 가까이 위치해 있어, 통학시 안전\\n▷ 강남롯데, 역삼이마트, 재래시장, 선릉공원, 삼성현대, 코엑스몰, 강남세브란스병원 등 \\n\\xa0\\xa0 근처 수영장, 헬스클럽 생활편의시설과 문화시설 등 풍부한 인프라\\n▷ 테헤란로 인접으로 편리한 교통권\\n▷ 지하철 2호선 그리고 수인분당선 환승 및 사통팔달의 교통망\\n▷ 대치동 학원가와 유치원, 초,중,고등학교 등 명문학군이 위치하여 맹모들의 만족감 우수\\n\\n■오렌지공인중개사사무소■', 'article_direction': '남향', 'article_exclusive_rate': '78', 'article_exclusive_space': 125.41, 'article_expandable': True, 'article_floor': '13/35', 'article_name': '강남센트럴아이파크', 'article_no': '2462143478', 'article_price_by_space': 9202.0, 'article_realtor_address': '서울특별시 강남구 역삼동 754-2 도곡프라자 110호 오렌지부동산', 'article_realtor_name': '오렌지공인중개사사무소', 'article_supply_space': 161.64, 'article_type_name': '아파트'}, {'article_area_name': '161B', 'article_area_size': 125, 'article_deal_or_warrant_price': '45억', 'article_deal_price': 450000, 'article_desc': '확장 시스템에어컨 도성초진선여중고', 'article_detail_desc': '', 'article_direction': '남향', 'article_exclusive_rate': '78', 'article_exclusive_space': 125.41, 'article_expandable': True, 'article_floor': '13/35', 'article_name': '강남센트럴아이파크', 'article_no': '2462079959', 'article_price_by_space': 9202.0, 'article_realtor_address': '서울 강남구 역삼동709-5 지1층 9호 테헤란아이파크상가', 'article_realtor_name': '(주)강남아이파크부동산중개법인', 'article_supply_space': 161.64, 'article_type_name': '아파트'}, {'article_area_name': '161B', 'article_area_size': 125, 'article_deal_or_warrant_price': '45억', 'article_deal_price': 450000, 'article_desc': '신축3년차 올확장 특급관리된 예쁜집 세대분리가능 우수학군', 'article_detail_desc': '> 선릉역세권 편리한 교통\\n> 방4 화장실3 확장형의 넓은 구조 (세대분리형원룸포함)깔끔관리된 예쁜 남향집 시스템에어컨\\n> 단지내\\xa0\\xa0최고급커뮤니티시설 (피트시스센터, 실내골프장, 주민도서관, 스터디카페등)\\n> 도성초 역삼중 진선여중고등 우수학군\\n> 이마트 맛집 카페 은행등 생활편의시설 도보5분이내\\n> 입주협의가능\\n\\n**강남최고 공인중개사사무소는 \\n 빠르고 정확한 정보와 책임있는 중개로 고객님께 보답합니다\\n\\n\\xa0\\xa0 담당 공인중개사 최임희 010-4212-3562', 'article_direction': '남향', 'article_exclusive_rate': '78', 'article_exclusive_space': 125.41, 'article_expandable': True, 'article_floor': '13/35', 'article_name': '강남센트럴아이파크', 'article_no': '2461710895', 'article_price_by_space': 9202.0, 'article_realtor_address': '서울특별시 강남구 언주로86길 11 305호 (역삼동, 한화 진넥스빌)', 'article_realtor_name': '강남최고 공인중개사사무소', 'article_supply_space': 161.64, 'article_type_name': '아파트'}, {'article_area_name': '26D', 'article_area_size': 18, 'article_deal_or_warrant_price': '4억 3,000', 'article_deal_price': 43000, 'article_desc': '실거주 가능, 가장 큰 사이즈, 복층 2개', 'article_detail_desc': '- 갭투자 및 실거주 가능한 도시형주택\\r\\n\\r\\n- 뱅뱅사거리 위치 강남역, 양재역 가까워 더블역세권 입니다.\\r\\n\\r\\n- 에어컨, 세탁기, 냉장고 기본옵션 있습니다.\\r\\n\\r\\n- 일반적인 복층과 달리 시원시원한 넓고 시원시원한 복층입니다.\\r\\n\\r\\n- 가장 큰 타입 + 복층 2개 / 수납공간 많음.\\r\\n\\r\\n-소속공인중개사 한승기 010-7425-8809', 'article_direction': '북향', 'article_exclusive_rate': '70', 'article_exclusive_space': 18.61, 'article_expandable': True, 'article_floor': '고/16', 'article_name': '강남웅진베어스빌(도시형)', 'article_no': '2456968913', 'article_price_by_space': 5355.0, 'article_realtor_address': '서울특별시 서초구 강남대로39길 15-10,105호(서초동,한라비발디스튜디오193)', 'article_realtor_name': '한라비발디공인중개사사무소', 'article_supply_space': 26.56, 'article_type_name': '아파트'}, {'article_area_name': '109A', 'article_area_size': 84, 'article_deal_or_warrant_price': '29억 5,000', 'article_deal_price': 295000, 'article_desc': '32 주인매물 판상형구조 확장형 층간소음걱정없는저층 입주가능함', 'article_detail_desc': '32평형  판상형구조 확장형 층간소음걱정없는저층 입주가능함\\r\\n\\r\\n전화 02-554-3110 \\r\\n 010-5500-3423', 'article_direction': '남향', 'article_exclusive_rate': '78', 'article_exclusive_space': 84.93, 'article_expandable': False, 'article_floor': '2/17', 'article_name': '개나리래미안', 'article_no': '2462092179', 'article_price_by_space': 8926.0, 'article_realtor_address': '서울 강남구 역삼동756-13 1층 103호', 'article_realtor_name': '명성공인중개사사무소', 'article_supply_space': 109.27, 'article_type_name': '아파트'}, {'article_area_name': '165A', 'article_area_size': 129, 'article_deal_or_warrant_price': '33억', 'article_deal_price': 330000, 'article_desc': '50, 주인직매물.남향, 도성초, 진선여중, 전망좋고  채광이 좋은 집', 'article_detail_desc': '♣매물특징♣\\r\\n* 채광이 가득한 밝은  집 이며 확장이 되어  넓은 실내 공간~\\r\\n*내부상태 매우좋은 추천~매물\\r\\n*도성초.역삼중.진선여중고~우수학군 인접단지\\r\\n*유명 학원가 .선릉역 .한티역 ~이용편리\\r\\n*이마트 강남세브란스, 롯데백화점, 도곡재래시장\\r\\n\\r\\n*역삼동 아파트 매.전.월 전문이며 실매물만 광고하는 양지부동산~\\r\\n\\r\\n ☎ 02) 567-0013 \\r\\n\\r\\n*고객의 소중한 자산을 연구하고 행복한 미래를 디자인 해 드리는 양지공인중개사~', 'article_direction': '남향', 'article_exclusive_rate': '78', 'article_exclusive_space': 129.8, 'article_expandable': False, 'article_floor': '15/21', 'article_name': '개나리래미안', 'article_no': '2461677544', 'article_price_by_space': 6593.0, 'article_realtor_address': '서울 강남구 역삼동754-2 1층 108호', 'article_realtor_name': '양지공인중개사사무소', 'article_supply_space': 165.44, 'article_type_name': '아파트'}, {'article_area_name': '109A', 'article_area_size': 84, 'article_deal_or_warrant_price': '29억 5,000', 'article_deal_price': 295000, 'article_desc': '33.올수리 확장 .도성초.입주하시면 부자는 집', 'article_detail_desc': '♣매물특징♣\\r\\n* 채광이 가득한 밝은  집 이며 확장이 되어  넓은 실내 공간~\\r\\n*내부상태 매우좋은 추천~매물\\r\\n*도성초.역삼중.진선여중고~우수학군 인접단지\\r\\n*유명 학원가 .선릉역 .한티역 ~이용편리\\r\\n*이마트 강남세브란스, 롯데백화점, 도곡재래시장\\r\\n\\r\\n*역삼동 아파트 매.전.월 전문이며 실매물만 광고하는 양지부동산~\\r\\n\\r\\n ☎ 02) 567-0013 \\r\\n\\r\\n*고객의 소중한 자산을 연구하고 행복한 미래를 디자인 해 드리는 양지공인중개사~', 'article_direction': '남향', 'article_exclusive_rate': '78', 'article_exclusive_space': 84.93, 'article_expandable': False, 'article_floor': '2/17', 'article_name': '개나리래미안', 'article_no': '2461406767', 'article_price_by_space': 8926.0, 'article_realtor_address': '서울 강남구 역삼동754-2 1층 108호', 'article_realtor_name': '양지공인중개사사무소', 'article_supply_space': 109.27, 'article_type_name': '아파트'}, {'article_area_name': '165A', 'article_area_size': 129, 'article_deal_or_warrant_price': '33억', 'article_deal_price': 330000, 'article_desc': '50.직매물.남향, 도성초, 진선여중, 전망좋고 채광좋음,', 'article_detail_desc': '♣매물특징♣\\n* 채광이 가득한 밝은\\xa0\\xa0집 이며 확장이 되어\\xa0\\xa0넓은 실내 공간~\\n*내부상태 매우좋은 추천~매물\\n*도성초.역삼중.진선여중고~우수학군 인접단지\\n*유명 학원가 .선릉역 .한티역 ~이용편리\\n*이마트 강남세브란스, 롯데백화점, 도곡재래시장\\n\\n*역삼동 아파트 매.전.월 전문이며 실매물만 광고하는 양지부동산~\\n\\n ☎ 02) 567-0013', 'article_direction': '남향', 'article_exclusive_rate': '78', 'article_exclusive_space': 129.8, 'article_expandable': False, 'article_floor': '15/21', 'article_name': '개나리래미안', 'article_no': '2461414115', 'article_price_by_space': 6593.0, 'article_realtor_address': '서울특별시 강남구 역삼로52길 14 도곡프라자108호  (역삼동)', 'article_realtor_name': '양지공인중개사사무소', 'article_supply_space': 165.44, 'article_type_name': '아파트'}, {'article_area_name': '184A', 'article_area_size': 148, 'article_deal_or_warrant_price': '36억 5,000', 'article_deal_price': 365000, 'article_desc': '주인직접, 남향 25년 입주 가,남향,사이다뷰,도성초 , 역삼중, 진선학', 'article_detail_desc': '집주인 매물설명\\r\\n주인직접, 남향 25년 입주 가,남향,사이다뷰,도성초 , 역삼중, 진선학\\r\\n▷ 구글/앱 스토어에서 ＂우대빵＂을 검색해 보세요\\r\\n\\r\\n계약시 10억 보증보험 보장!! \\r\\n아파트 매매/전,월세 전문 \\r\\n2023년 아파트 매물 수, 손님 수 1등 \\r\\n평균 거래기간 1개월 9일!\\r\\n계약부터~세무 / 대출 / 변호사 상담까지 원스톱 서비스\\r\\n궁금하신점은 언제든 연락 주세요 TEL : 010-8392-5497\\r\\n\\r\\n단지소개\\r\\n\\r\\n\\r\\n◆ 준공연일2006.8월 24B평24A평33A평33B평50평50평55A평으로 구성된 아파트( 332세대) 입니다. \\r\\n◆ 교통: 한티역(수인분당선) , 선릉역 (수인분당, 2호선) \\r\\n◆ 학군: 도성초, 역삼중, 진선여중고 \\r\\n◆ 주변: 도보가능한 이마트와 단지내 산책로와 보행로 다양한 휴식공간이 미련되어있어 편하게 이용할수있는 단지입니다.', 'article_direction': '남향', 'article_exclusive_rate': '81', 'article_exclusive_space': 148.8, 'article_expandable': False, 'article_floor': '고/21', 'article_name': '개나리푸르지오', 'article_no': '2461969152', 'article_price_by_space': 6552.0, 'article_realtor_address': '서울 강남구 언주로 425,2층', 'article_realtor_name': '주식회사 우대빵부동산중개센터 강남지점', 'article_supply_space': 184.18, 'article_type_name': '아파트'}]\n"
     ]
    }
   ],
   "source": [
    "import requests\n",
    "import re\n",
    "\n",
    "def main():\n",
    "    # 1) 세션(Session) 객체 생성\n",
    "    # 세션을 사용해야 쿠키가 자동으로 저장되어 다음 요청에 함께 전송됩니다\n",
    "    s = requests.Session()\n",
    "\n",
    "    # 2) 브라우저 유사한 User-Agent 설정 (User-Agent 검사를 우회하기 위함)\n",
    "    # Chrome, Firefox 등 다양한 User-Agent 중 하나로 지정합니다\n",
    "    s.headers.update({\n",
    "        \"User-Agent\": \"Mozilla/5.0 (Windows NT 10.0; Win64; x64) AppleWebKit/537.36 \"\n",
    "                      \"(KHTML, like Gecko) Chrome/114.0.0.0 Safari/537.36\"\n",
    "    })\n",
    "\n",
    "    # 3) /level3 페이지를 먼저 요청하여 세션 쿠키와 HTML 내 js_token 획득\n",
    "    url_level3 = \"http://127.0.0.1:5000/level3\"\n",
    "    r = s.get(url_level3)\n",
    "    if r.status_code != 200:\n",
    "        print(\"level3 페이지 요청 실패: \", r.status_code, r.text)\n",
    "        return\n",
    "\n",
    "    # HTML에서 토큰 추출 (템플릿 예시에 따라 정규식 등을 활용)\n",
    "    # level3.html 내부에서:  const token = \"{{ session['js_token'] }}\";\n",
    "    # 이런 식으로 들어있을 가능성이 높습니다\n",
    "    match = re.search(r'const\\s+token\\s*=\\s*[\"\\']([^\"\\']+)[\"\\']', r.text)\n",
    "    if not match:\n",
    "        print(\"토큰을 찾을 수 없습니다. HTML 구조를 확인하세요.\")\n",
    "        return\n",
    "\n",
    "    js_token = match.group(1)\n",
    "    print(\"획득한 js_token:\", js_token)\n",
    "\n",
    "    # 4) /protected_api/articles 요청\n",
    "    # Referer 헤더 추가 + GET 파라미터에 token 추가\n",
    "    url_articles = \"http://127.0.0.1:5000/protected_api/articles\"\n",
    "    params = {\n",
    "        \"page\": 1,\n",
    "        \"pageSize\": 20,\n",
    "        \"token\": js_token  # 자바스크립트 검증(세션 토큰)\n",
    "    }\n",
    "    # Referer에 level3 문자열이 반드시 들어가도록 설정합니다\n",
    "    headers = {\n",
    "        \"Referer\": \"http://127.0.0.1:5000/level3\"\n",
    "    }\n",
    "    \n",
    "    r2 = s.get(url_articles, params=params, headers=headers)\n",
    "\n",
    "    if r2.status_code == 200:\n",
    "        print(\"정상 응답:\", r2.json())  # JSON 데이터 출력\n",
    "    else:\n",
    "        print(\"차단된 응답:\", r2.status_code, r2.text)\n",
    "\n",
    "if __name__ == \"__main__\":\n",
    "    main()\n"
   ]
  },
  {
   "cell_type": "code",
   "execution_count": null,
   "metadata": {},
   "outputs": [],
   "source": [
    "import requests\n",
    "import time\n",
    "\n",
    "cookies = {\n",
    "    'session': '.eJwtjs0KgkAURl_lclcKok7-ga6iRYHZJsGljHnNyUllRimK3r0h4tsdzoHvjXWnSPeYdlxqclDMNW9bgzSmyDaJ65sxdPCmaxp5I6nFdFGrUVdNquZXGhejFtNLSMm9yPXBqsTYTg8NpxKY6TMwIA4zeMahDdt5llRRk4vFi4LEDWKw8kNZHB2QYiDY02WYbNj1arqTxwL2u-DDmXdciX-Cny9A-jfs.Z25o2A.7vdzkqD6fnytvBviNIqnbaHE5SA',\n",
    "}\n",
    " \n",
    "headers = {\n",
    "    'User-Agent': 'Mozilla/5.0 (Windows NT 10.0; Win64; x64) AppleWebKit/537.36 (KHTML, like Gecko) Chrome/131.0.0.0 Safari/537.36',\n",
    "}\n",
    "\n",
    "params = {\n",
    "    'page': '2',\n",
    "    'pageSize': '20',\n",
    "}\n",
    "\n",
    "session = requests.Session()\n",
    "session.headers.update(headers)\n",
    "session.cookies.update(cookies)\n",
    "\n",
    "for i in range(100):\n",
    "    response = session.get('http://127.0.0.1:5000/protected_api/articles', params=params, cookies=cookies, headers=headers)\n",
    "    print(response)\n",
    "    time.sleep(1)"
   ]
  },
  {
   "cell_type": "code",
   "execution_count": null,
   "metadata": {},
   "outputs": [
    {
     "ename": "NoSuchWindowException",
     "evalue": "Message: no such window: target window already closed\nfrom unknown error: web view not found\n  (Session info: chrome=131.0.6778.205)\nStacktrace:\n\tGetHandleVerifier [0x00007FF7CA3AFB05+28789]\n\t(No symbol) [0x00007FF7CA3186E0]\n\t(No symbol) [0x00007FF7CA1B592A]\n\t(No symbol) [0x00007FF7CA18F505]\n\t(No symbol) [0x00007FF7CA236477]\n\t(No symbol) [0x00007FF7CA24EF42]\n\t(No symbol) [0x00007FF7CA22F1E3]\n\t(No symbol) [0x00007FF7CA1FA938]\n\t(No symbol) [0x00007FF7CA1FBAA1]\n\tGetHandleVerifier [0x00007FF7CA6E933D+3410093]\n\tGetHandleVerifier [0x00007FF7CA6FE7DD+3497293]\n\tGetHandleVerifier [0x00007FF7CA6F2A73+3448803]\n\tGetHandleVerifier [0x00007FF7CA477BBB+848171]\n\t(No symbol) [0x00007FF7CA323C3F]\n\t(No symbol) [0x00007FF7CA31F6E4]\n\t(No symbol) [0x00007FF7CA31F87D]\n\t(No symbol) [0x00007FF7CA30ED49]\n\tBaseThreadInitThunk [0x00007FFF69E07374+20]\n\tRtlUserThreadStart [0x00007FFF6AFBCC91+33]\n",
     "output_type": "error",
     "traceback": [
      "\u001b[1;31m---------------------------------------------------------------------------\u001b[0m",
      "\u001b[1;31mNoSuchWindowException\u001b[0m                     Traceback (most recent call last)",
      "Cell \u001b[1;32mIn[39], line 8\u001b[0m\n\u001b[0;32m      5\u001b[0m time\u001b[38;5;241m.\u001b[39msleep(\u001b[38;5;241m1\u001b[39m)\n\u001b[0;32m      7\u001b[0m \u001b[38;5;28;01mfor\u001b[39;00m i \u001b[38;5;129;01min\u001b[39;00m \u001b[38;5;28mrange\u001b[39m(\u001b[38;5;241m1\u001b[39m, \u001b[38;5;241m100\u001b[39m):\n\u001b[1;32m----> 8\u001b[0m     \u001b[43mdriver\u001b[49m\u001b[38;5;241;43m.\u001b[39;49m\u001b[43mget\u001b[49m\u001b[43m(\u001b[49m\u001b[38;5;124;43mf\u001b[39;49m\u001b[38;5;124;43m'\u001b[39;49m\u001b[38;5;124;43mhttp://127.0.0.1:5000/protected_api/articles?page=\u001b[39;49m\u001b[38;5;132;43;01m{\u001b[39;49;00m\u001b[43mi\u001b[49m\u001b[38;5;132;43;01m}\u001b[39;49;00m\u001b[38;5;124;43m&pageSize=20\u001b[39;49m\u001b[38;5;124;43m'\u001b[39;49m\u001b[43m)\u001b[49m\n\u001b[0;32m      9\u001b[0m     time\u001b[38;5;241m.\u001b[39msleep(\u001b[38;5;241m1\u001b[39m)\n",
      "File \u001b[1;32mc:\\Users\\kkj63\\AppData\\Local\\Programs\\Python\\Python312\\Lib\\site-packages\\selenium\\webdriver\\remote\\webdriver.py:393\u001b[0m, in \u001b[0;36mWebDriver.get\u001b[1;34m(self, url)\u001b[0m\n\u001b[0;32m    391\u001b[0m \u001b[38;5;28;01mdef\u001b[39;00m \u001b[38;5;21mget\u001b[39m(\u001b[38;5;28mself\u001b[39m, url: \u001b[38;5;28mstr\u001b[39m) \u001b[38;5;241m-\u001b[39m\u001b[38;5;241m>\u001b[39m \u001b[38;5;28;01mNone\u001b[39;00m:\n\u001b[0;32m    392\u001b[0m \u001b[38;5;250m    \u001b[39m\u001b[38;5;124;03m\"\"\"Loads a web page in the current browser session.\"\"\"\u001b[39;00m\n\u001b[1;32m--> 393\u001b[0m     \u001b[38;5;28;43mself\u001b[39;49m\u001b[38;5;241;43m.\u001b[39;49m\u001b[43mexecute\u001b[49m\u001b[43m(\u001b[49m\u001b[43mCommand\u001b[49m\u001b[38;5;241;43m.\u001b[39;49m\u001b[43mGET\u001b[49m\u001b[43m,\u001b[49m\u001b[43m \u001b[49m\u001b[43m{\u001b[49m\u001b[38;5;124;43m\"\u001b[39;49m\u001b[38;5;124;43murl\u001b[39;49m\u001b[38;5;124;43m\"\u001b[39;49m\u001b[43m:\u001b[49m\u001b[43m \u001b[49m\u001b[43murl\u001b[49m\u001b[43m}\u001b[49m\u001b[43m)\u001b[49m\n",
      "File \u001b[1;32mc:\\Users\\kkj63\\AppData\\Local\\Programs\\Python\\Python312\\Lib\\site-packages\\selenium\\webdriver\\remote\\webdriver.py:384\u001b[0m, in \u001b[0;36mWebDriver.execute\u001b[1;34m(self, driver_command, params)\u001b[0m\n\u001b[0;32m    382\u001b[0m response \u001b[38;5;241m=\u001b[39m \u001b[38;5;28mself\u001b[39m\u001b[38;5;241m.\u001b[39mcommand_executor\u001b[38;5;241m.\u001b[39mexecute(driver_command, params)\n\u001b[0;32m    383\u001b[0m \u001b[38;5;28;01mif\u001b[39;00m response:\n\u001b[1;32m--> 384\u001b[0m     \u001b[38;5;28;43mself\u001b[39;49m\u001b[38;5;241;43m.\u001b[39;49m\u001b[43merror_handler\u001b[49m\u001b[38;5;241;43m.\u001b[39;49m\u001b[43mcheck_response\u001b[49m\u001b[43m(\u001b[49m\u001b[43mresponse\u001b[49m\u001b[43m)\u001b[49m\n\u001b[0;32m    385\u001b[0m     response[\u001b[38;5;124m\"\u001b[39m\u001b[38;5;124mvalue\u001b[39m\u001b[38;5;124m\"\u001b[39m] \u001b[38;5;241m=\u001b[39m \u001b[38;5;28mself\u001b[39m\u001b[38;5;241m.\u001b[39m_unwrap_value(response\u001b[38;5;241m.\u001b[39mget(\u001b[38;5;124m\"\u001b[39m\u001b[38;5;124mvalue\u001b[39m\u001b[38;5;124m\"\u001b[39m, \u001b[38;5;28;01mNone\u001b[39;00m))\n\u001b[0;32m    386\u001b[0m     \u001b[38;5;28;01mreturn\u001b[39;00m response\n",
      "File \u001b[1;32mc:\\Users\\kkj63\\AppData\\Local\\Programs\\Python\\Python312\\Lib\\site-packages\\selenium\\webdriver\\remote\\errorhandler.py:232\u001b[0m, in \u001b[0;36mErrorHandler.check_response\u001b[1;34m(self, response)\u001b[0m\n\u001b[0;32m    230\u001b[0m         alert_text \u001b[38;5;241m=\u001b[39m value[\u001b[38;5;124m\"\u001b[39m\u001b[38;5;124malert\u001b[39m\u001b[38;5;124m\"\u001b[39m]\u001b[38;5;241m.\u001b[39mget(\u001b[38;5;124m\"\u001b[39m\u001b[38;5;124mtext\u001b[39m\u001b[38;5;124m\"\u001b[39m)\n\u001b[0;32m    231\u001b[0m     \u001b[38;5;28;01mraise\u001b[39;00m exception_class(message, screen, stacktrace, alert_text)  \u001b[38;5;66;03m# type: ignore[call-arg]  # mypy is not smart enough here\u001b[39;00m\n\u001b[1;32m--> 232\u001b[0m \u001b[38;5;28;01mraise\u001b[39;00m exception_class(message, screen, stacktrace)\n",
      "\u001b[1;31mNoSuchWindowException\u001b[0m: Message: no such window: target window already closed\nfrom unknown error: web view not found\n  (Session info: chrome=131.0.6778.205)\nStacktrace:\n\tGetHandleVerifier [0x00007FF7CA3AFB05+28789]\n\t(No symbol) [0x00007FF7CA3186E0]\n\t(No symbol) [0x00007FF7CA1B592A]\n\t(No symbol) [0x00007FF7CA18F505]\n\t(No symbol) [0x00007FF7CA236477]\n\t(No symbol) [0x00007FF7CA24EF42]\n\t(No symbol) [0x00007FF7CA22F1E3]\n\t(No symbol) [0x00007FF7CA1FA938]\n\t(No symbol) [0x00007FF7CA1FBAA1]\n\tGetHandleVerifier [0x00007FF7CA6E933D+3410093]\n\tGetHandleVerifier [0x00007FF7CA6FE7DD+3497293]\n\tGetHandleVerifier [0x00007FF7CA6F2A73+3448803]\n\tGetHandleVerifier [0x00007FF7CA477BBB+848171]\n\t(No symbol) [0x00007FF7CA323C3F]\n\t(No symbol) [0x00007FF7CA31F6E4]\n\t(No symbol) [0x00007FF7CA31F87D]\n\t(No symbol) [0x00007FF7CA30ED49]\n\tBaseThreadInitThunk [0x00007FFF69E07374+20]\n\tRtlUserThreadStart [0x00007FFF6AFBCC91+33]\n"
     ]
    }
   ],
   "source": [
    "from selenium import webdriver\n",
    "\n",
    "driver = webdriver.Chrome()\n",
    "driver.get('http://127.0.0.1:5000/level3')\n",
    "time.sleep(1)\n",
    "\n",
    "for i in range(1, 100):\n",
    "    driver.get(f'http://127.0.0.1:5000/protected_api/articles?page={i}&pageSize=20')\n",
    "    driver.\n",
    "    time.sleep(5)"
   ]
  }
 ],
 "metadata": {
  "kernelspec": {
   "display_name": "Python 3",
   "language": "python",
   "name": "python3"
  },
  "language_info": {
   "codemirror_mode": {
    "name": "ipython",
    "version": 3
   },
   "file_extension": ".py",
   "mimetype": "text/x-python",
   "name": "python",
   "nbconvert_exporter": "python",
   "pygments_lexer": "ipython3",
   "version": "3.12.4"
  }
 },
 "nbformat": 4,
 "nbformat_minor": 2
}
