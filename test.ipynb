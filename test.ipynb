{
 "cells": [
  {
   "cell_type": "code",
   "execution_count": 1,
   "metadata": {},
   "outputs": [
    {
     "data": {
      "text/plain": [
       "45"
      ]
     },
     "execution_count": 1,
     "metadata": {},
     "output_type": "execute_result"
    }
   ],
   "source": [
    "len(\"username=your_username&password=your_password\")"
   ]
  },
  {
   "cell_type": "code",
   "execution_count": null,
   "metadata": {},
   "outputs": [
    {
     "name": "stdout",
     "output_type": "stream",
     "text": [
      "10\n",
      "1\n"
     ]
    },
    {
     "ename": "ElementClickInterceptedException",
     "evalue": "Message: element click intercepted: Element <a class=\"page-link\" href=\"#\">...</a> is not clickable at point (636, 572). Other element would receive the click: <button type=\"button\" class=\"btn waves-effect waves-light  btn-esti \" onclick=\"regInChest('2', false,'', 'N', 'Search')\">...</button>\n  (Session info: chrome=131.0.6778.69)\nStacktrace:\n\tGetHandleVerifier [0x00007FF68FF92775+28773]\n\t(No symbol) [0x00007FF68FEFAFB0]\n\t(No symbol) [0x00007FF68FD9552A]\n\t(No symbol) [0x00007FF68FDF0B5E]\n\t(No symbol) [0x00007FF68FDEE5FC]\n\t(No symbol) [0x00007FF68FDEB7E6]\n\t(No symbol) [0x00007FF68FDEA741]\n\t(No symbol) [0x00007FF68FDDC970]\n\t(No symbol) [0x00007FF68FE0EF9A]\n\t(No symbol) [0x00007FF68FDDC1C6]\n\t(No symbol) [0x00007FF68FE0F1B0]\n\t(No symbol) [0x00007FF68FE2F1A4]\n\t(No symbol) [0x00007FF68FE0ED43]\n\t(No symbol) [0x00007FF68FDDA548]\n\t(No symbol) [0x00007FF68FDDB6B1]\n\tGetHandleVerifier [0x00007FF6902BF45D+3358029]\n\tGetHandleVerifier [0x00007FF6902D430D+3443709]\n\tGetHandleVerifier [0x00007FF6902C83FD+3394797]\n\tGetHandleVerifier [0x00007FF69005929B+842635]\n\t(No symbol) [0x00007FF68FF0654F]\n\t(No symbol) [0x00007FF68FF01FA4]\n\t(No symbol) [0x00007FF68FF0213D]\n\t(No symbol) [0x00007FF68FEF1629]\n\tBaseThreadInitThunk [0x00007FF9FE467374+20]\n\tRtlUserThreadStart [0x00007FFA0023CC91+33]\n",
     "output_type": "error",
     "traceback": [
      "\u001b[1;31m---------------------------------------------------------------------------\u001b[0m",
      "\u001b[1;31mElementClickInterceptedException\u001b[0m          Traceback (most recent call last)",
      "Cell \u001b[1;32mIn[1], line 54\u001b[0m\n\u001b[0;32m     51\u001b[0m \u001b[38;5;28mprint\u001b[39m(i\u001b[38;5;241m.\u001b[39mtext)\n\u001b[0;32m     52\u001b[0m time\u001b[38;5;241m.\u001b[39msleep(\u001b[38;5;241m15\u001b[39m)\n\u001b[1;32m---> 54\u001b[0m \u001b[43mi\u001b[49m\u001b[38;5;241;43m.\u001b[39;49m\u001b[43mclick\u001b[49m\u001b[43m(\u001b[49m\u001b[43m)\u001b[49m\n\u001b[0;32m     55\u001b[0m time\u001b[38;5;241m.\u001b[39msleep(\u001b[38;5;241m10\u001b[39m)\n",
      "File \u001b[1;32mc:\\Users\\kkj63\\AppData\\Local\\Programs\\Python\\Python312\\Lib\\site-packages\\selenium\\webdriver\\remote\\webelement.py:94\u001b[0m, in \u001b[0;36mWebElement.click\u001b[1;34m(self)\u001b[0m\n\u001b[0;32m     92\u001b[0m \u001b[38;5;28;01mdef\u001b[39;00m \u001b[38;5;21mclick\u001b[39m(\u001b[38;5;28mself\u001b[39m) \u001b[38;5;241m-\u001b[39m\u001b[38;5;241m>\u001b[39m \u001b[38;5;28;01mNone\u001b[39;00m:\n\u001b[0;32m     93\u001b[0m \u001b[38;5;250m    \u001b[39m\u001b[38;5;124;03m\"\"\"Clicks the element.\"\"\"\u001b[39;00m\n\u001b[1;32m---> 94\u001b[0m     \u001b[38;5;28;43mself\u001b[39;49m\u001b[38;5;241;43m.\u001b[39;49m\u001b[43m_execute\u001b[49m\u001b[43m(\u001b[49m\u001b[43mCommand\u001b[49m\u001b[38;5;241;43m.\u001b[39;49m\u001b[43mCLICK_ELEMENT\u001b[49m\u001b[43m)\u001b[49m\n",
      "File \u001b[1;32mc:\\Users\\kkj63\\AppData\\Local\\Programs\\Python\\Python312\\Lib\\site-packages\\selenium\\webdriver\\remote\\webelement.py:395\u001b[0m, in \u001b[0;36mWebElement._execute\u001b[1;34m(self, command, params)\u001b[0m\n\u001b[0;32m    393\u001b[0m     params \u001b[38;5;241m=\u001b[39m {}\n\u001b[0;32m    394\u001b[0m params[\u001b[38;5;124m\"\u001b[39m\u001b[38;5;124mid\u001b[39m\u001b[38;5;124m\"\u001b[39m] \u001b[38;5;241m=\u001b[39m \u001b[38;5;28mself\u001b[39m\u001b[38;5;241m.\u001b[39m_id\n\u001b[1;32m--> 395\u001b[0m \u001b[38;5;28;01mreturn\u001b[39;00m \u001b[38;5;28;43mself\u001b[39;49m\u001b[38;5;241;43m.\u001b[39;49m\u001b[43m_parent\u001b[49m\u001b[38;5;241;43m.\u001b[39;49m\u001b[43mexecute\u001b[49m\u001b[43m(\u001b[49m\u001b[43mcommand\u001b[49m\u001b[43m,\u001b[49m\u001b[43m \u001b[49m\u001b[43mparams\u001b[49m\u001b[43m)\u001b[49m\n",
      "File \u001b[1;32mc:\\Users\\kkj63\\AppData\\Local\\Programs\\Python\\Python312\\Lib\\site-packages\\selenium\\webdriver\\remote\\webdriver.py:354\u001b[0m, in \u001b[0;36mWebDriver.execute\u001b[1;34m(self, driver_command, params)\u001b[0m\n\u001b[0;32m    352\u001b[0m response \u001b[38;5;241m=\u001b[39m \u001b[38;5;28mself\u001b[39m\u001b[38;5;241m.\u001b[39mcommand_executor\u001b[38;5;241m.\u001b[39mexecute(driver_command, params)\n\u001b[0;32m    353\u001b[0m \u001b[38;5;28;01mif\u001b[39;00m response:\n\u001b[1;32m--> 354\u001b[0m     \u001b[38;5;28;43mself\u001b[39;49m\u001b[38;5;241;43m.\u001b[39;49m\u001b[43merror_handler\u001b[49m\u001b[38;5;241;43m.\u001b[39;49m\u001b[43mcheck_response\u001b[49m\u001b[43m(\u001b[49m\u001b[43mresponse\u001b[49m\u001b[43m)\u001b[49m\n\u001b[0;32m    355\u001b[0m     response[\u001b[38;5;124m\"\u001b[39m\u001b[38;5;124mvalue\u001b[39m\u001b[38;5;124m\"\u001b[39m] \u001b[38;5;241m=\u001b[39m \u001b[38;5;28mself\u001b[39m\u001b[38;5;241m.\u001b[39m_unwrap_value(response\u001b[38;5;241m.\u001b[39mget(\u001b[38;5;124m\"\u001b[39m\u001b[38;5;124mvalue\u001b[39m\u001b[38;5;124m\"\u001b[39m, \u001b[38;5;28;01mNone\u001b[39;00m))\n\u001b[0;32m    356\u001b[0m     \u001b[38;5;28;01mreturn\u001b[39;00m response\n",
      "File \u001b[1;32mc:\\Users\\kkj63\\AppData\\Local\\Programs\\Python\\Python312\\Lib\\site-packages\\selenium\\webdriver\\remote\\errorhandler.py:229\u001b[0m, in \u001b[0;36mErrorHandler.check_response\u001b[1;34m(self, response)\u001b[0m\n\u001b[0;32m    227\u001b[0m         alert_text \u001b[38;5;241m=\u001b[39m value[\u001b[38;5;124m\"\u001b[39m\u001b[38;5;124malert\u001b[39m\u001b[38;5;124m\"\u001b[39m]\u001b[38;5;241m.\u001b[39mget(\u001b[38;5;124m\"\u001b[39m\u001b[38;5;124mtext\u001b[39m\u001b[38;5;124m\"\u001b[39m)\n\u001b[0;32m    228\u001b[0m     \u001b[38;5;28;01mraise\u001b[39;00m exception_class(message, screen, stacktrace, alert_text)  \u001b[38;5;66;03m# type: ignore[call-arg]  # mypy is not smart enough here\u001b[39;00m\n\u001b[1;32m--> 229\u001b[0m \u001b[38;5;28;01mraise\u001b[39;00m exception_class(message, screen, stacktrace)\n",
      "\u001b[1;31mElementClickInterceptedException\u001b[0m: Message: element click intercepted: Element <a class=\"page-link\" href=\"#\">...</a> is not clickable at point (636, 572). Other element would receive the click: <button type=\"button\" class=\"btn waves-effect waves-light  btn-esti \" onclick=\"regInChest('2', false,'', 'N', 'Search')\">...</button>\n  (Session info: chrome=131.0.6778.69)\nStacktrace:\n\tGetHandleVerifier [0x00007FF68FF92775+28773]\n\t(No symbol) [0x00007FF68FEFAFB0]\n\t(No symbol) [0x00007FF68FD9552A]\n\t(No symbol) [0x00007FF68FDF0B5E]\n\t(No symbol) [0x00007FF68FDEE5FC]\n\t(No symbol) [0x00007FF68FDEB7E6]\n\t(No symbol) [0x00007FF68FDEA741]\n\t(No symbol) [0x00007FF68FDDC970]\n\t(No symbol) [0x00007FF68FE0EF9A]\n\t(No symbol) [0x00007FF68FDDC1C6]\n\t(No symbol) [0x00007FF68FE0F1B0]\n\t(No symbol) [0x00007FF68FE2F1A4]\n\t(No symbol) [0x00007FF68FE0ED43]\n\t(No symbol) [0x00007FF68FDDA548]\n\t(No symbol) [0x00007FF68FDDB6B1]\n\tGetHandleVerifier [0x00007FF6902BF45D+3358029]\n\tGetHandleVerifier [0x00007FF6902D430D+3443709]\n\tGetHandleVerifier [0x00007FF6902C83FD+3394797]\n\tGetHandleVerifier [0x00007FF69005929B+842635]\n\t(No symbol) [0x00007FF68FF0654F]\n\t(No symbol) [0x00007FF68FF01FA4]\n\t(No symbol) [0x00007FF68FF0213D]\n\t(No symbol) [0x00007FF68FEF1629]\n\tBaseThreadInitThunk [0x00007FF9FE467374+20]\n\tRtlUserThreadStart [0x00007FFA0023CC91+33]\n"
     ]
    }
   ],
   "source": [
    "import requests\n",
    "from bs4 import BeautifulSoup\n",
    "import pandas as pd\n",
    "\n",
    "from selenium import webdriver\n",
    "from selenium.webdriver.common.by import By\n",
    "from selenium.webdriver.common.keys import Keys\n",
    "import time\n",
    "\n",
    "from selenium.webdriver.support.select import Select\n",
    "\n",
    "driver = webdriver.Chrome()\n",
    "\n",
    "# 사이트 불러 오기\n",
    "url = 'https://ctx.cretec.kr/CtxApp/ssp/selectSbarPmtnList.do'\n",
    "driver.get(url)\n",
    "\n",
    "# 로그인 \n",
    "user_id = '17616921'\n",
    "user_pw = 'zmfhtm70mm**'\n",
    "\n",
    "# 로그인 완료 후 신바람 화면으로 넘어감\n",
    "id = driver.find_element(By.CSS_SELECTOR, '#ctxId' )\n",
    "id.send_keys(user_id)\n",
    "time.sleep(1)\n",
    "\n",
    "pw = driver.find_element(By.CSS_SELECTOR,'#password')\n",
    "pw.send_keys(user_pw)\n",
    "time.sleep(1)\n",
    "\n",
    "login = driver.find_element(By.CSS_SELECTOR, '#ctxUserVO > button')\n",
    "login.click()\n",
    "time.sleep(3)\n",
    "\n",
    "# 상품  \"더보기447\" 을 클릭해서 리스트 페이지로 들어감\n",
    "tag = driver.find_element(By.CSS_SELECTOR, '#content-container > div.content > div.content-body > div > div.sub_promo_cnt > div:nth-child(10) > div.promore > span')\n",
    "tag.click()\n",
    "time.sleep(5)"
   ]
  },
  {
   "cell_type": "code",
   "execution_count": 7,
   "metadata": {},
   "outputs": [],
   "source": [
    "for i in range(1, 11):\n",
    "    # url의 page 파라미터를 변경해가면서 페이지 이동 하시면 될거 같아요\n",
    "    driver.get(f\"https://ctx.cretec.kr/CtxApp/ctx/selectPowerSearchList.do?keyword=&smartKeyword=&prod_cd=&item_nm=&brnd_nm=&item_stdz=&modl_no=&agg_brnd_cd=&agg_pmtn=&agg_contentInfo=&agg_origCounDest=&sort=&agg_cate_1=&agg_cate_2=&agg_cate_3=&agg_cate_4=&pmtn_cls_cd=11&pmtn_seq=14&pmtn_year=2024&pmtn_cnt=1102&comp_cd=W&cateSearch=&pmtnSearch=Y&page={i}&rows=&listType=&prodcontents=&prod_cd_multi=&include_delete=Y\")\n",
    "    time.sleep(5)"
   ]
  }
 ],
 "metadata": {
  "kernelspec": {
   "display_name": "Python 3",
   "language": "python",
   "name": "python3"
  },
  "language_info": {
   "codemirror_mode": {
    "name": "ipython",
    "version": 3
   },
   "file_extension": ".py",
   "mimetype": "text/x-python",
   "name": "python",
   "nbconvert_exporter": "python",
   "pygments_lexer": "ipython3",
   "version": "3.12.4"
  }
 },
 "nbformat": 4,
 "nbformat_minor": 2
}
