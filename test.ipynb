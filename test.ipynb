{
 "cells": [
  {
   "cell_type": "code",
   "execution_count": 34,
   "metadata": {},
   "outputs": [
    {
     "name": "stdout",
     "output_type": "stream",
     "text": [
      "로그인 성공!\n",
      "{'session': '.eJwljjtqBTEMAO_iOoUs6-d3mcWSJRICCey-V4XcPQspZ5hiftpRZ17v7fE8X_nWjo_dHm31mLK9pECVmZePlTmnLJsIYFvMZHQEHLoDpW-CLiy-fGluG4TkJjL7hBJlL0zC6QN9gQZnDneKgUwU3XTeJaHDJMbS8HaPvK48_2_6jXGddTy_P_PrFj5AN1BgePUQBOYqtlS0RcgmsEdM1_b7B0cePc0.Z2Jv4g.vy19QF2zRlp4oX1rAZvFjce1S2U'}\n"
     ]
    }
   ],
   "source": [
    "import requests\n",
    "from bs4 import BeautifulSoup\n",
    "\n",
    "# 세션 객체 생성\n",
    "session = requests.Session()\n",
    "\n",
    "# 헤더 설정 (필요한 경우)\n",
    "headers = {\n",
    "    'User-Agent': 'Mozilla/5.0 (Windows NT 10.0; Win64; x64) AppleWebKit/537.36 (KHTML, like Gecko) Chrome/131.0.0.0 Safari/537.36',\n",
    "    'Accept-Language': 'ko-KR,ko;q=0.9,en-US;q=0.8,en;q=0.7',\n",
    "    # 기타 필요한 헤더 추가\n",
    "}\n",
    "\n",
    "# 1. 로그인 페이지 GET 요청\n",
    "login_page_url = 'https://begincoding.pythonanywhere.com/login'\n",
    "response = session.get(login_page_url, headers=headers)\n",
    "\n",
    "# 로그인 페이지 HTML 파싱\n",
    "soup = BeautifulSoup(response.text, 'html.parser')\n",
    "\n",
    "# CSRF 토큰 추출\n",
    "csrf_token = soup.find('input', {'name': 'csrf_token'})['value']\n",
    "\n",
    "# 2. 로그인 데이터 준비\n",
    "data = {\n",
    "    'csrf_token': csrf_token,\n",
    "    'username': 'begincoding',\n",
    "    'password': '1234',\n",
    "    'submit': '로그인',\n",
    "}\n",
    "\n",
    "# 3. 로그인 POST 요청\n",
    "response = session.post(login_page_url, headers=headers, data=data)\n",
    "\n",
    "# 로그인 성공 여부 확인 (예: 로그인 후 페이지에 '로그아웃' 링크가 있는지 확인)\n",
    "protected_page_url = 'https://begincoding.pythonanywhere.com/comments'  # 실제 보호된 URL로 변경\n",
    "response = session.get(protected_page_url, headers=headers)\n",
    "\n",
    "if '로그아웃' in response.text:\n",
    "    print(\"로그인 성공!\")\n",
    "else:\n",
    "    print(\"로그인 실패!\")\n",
    "    print(response.text)\n",
    "\n",
    "# 쿠키 출력 (디버깅용)\n",
    "print(session.cookies.get_dict())\n"
   ]
  },
  {
   "cell_type": "code",
   "execution_count": null,
   "metadata": {},
   "outputs": [],
   "source": [
    "import requests\n",
    "\n",
    "# 1. 댓글 작성 페이지 GET 요청\n",
    "comments_new_url = 'https://begincoding.pythonanywhere.com/comment/new'\n",
    "response = session.get(comments_new_url, headers=headers)\n",
    "soup = BeautifulSoup(response.text, 'html.parser')\n",
    "\n",
    "# 2. CSRF 토큰 추출\n",
    "csrf_token = soup.find('input', {'name': 'csrf_token'})['value']\n",
    "\n",
    "data = {\n",
    "    'csrf_token': csrf_token,\n",
    "    'content': '테스트3',\n",
    "    'submit': '작성',\n",
    "}\n",
    "\n",
    "response = session.post('https://begincoding.pythonanywhere.com/comment/new', headers=headers, data=data)\n",
    "response"
   ]
  },
  {
   "cell_type": "code",
   "execution_count": 45,
   "metadata": {},
   "outputs": [
    {
     "data": {
      "text/plain": [
       "<Response [200]>"
      ]
     },
     "execution_count": 45,
     "metadata": {},
     "output_type": "execute_result"
    }
   ],
   "source": [
    "import requests\n",
    "\n",
    "# 1. 댓글 수정 페이지 GET 요청\n",
    "comments_new_url = 'https://begincoding.pythonanywhere.com/comment/1/edit'\n",
    "response = session.get(comments_new_url, headers=headers)\n",
    "soup = BeautifulSoup(response.text, 'html.parser')\n",
    "\n",
    "# 2. CSRF 토큰 추출\n",
    "csrf_token = soup.find('input', {'name': 'csrf_token'})['value']\n",
    "\n",
    "data = {\n",
    "    'csrf_token': csrf_token,\n",
    "    'content': '바꿀꺼야 단비가 다 바꿔 버릴꺼야아아아아아!!!!!',\n",
    "    'submit': '작성',\n",
    "}\n",
    "\n",
    "response = session.post('https://begincoding.pythonanywhere.com/comment/1/edit', headers=headers, data=data)\n",
    "response"
   ]
  },
  {
   "cell_type": "code",
   "execution_count": 46,
   "metadata": {},
   "outputs": [
    {
     "data": {
      "text/plain": [
       "<Response [200]>"
      ]
     },
     "execution_count": 46,
     "metadata": {},
     "output_type": "execute_result"
    }
   ],
   "source": [
    "import requests\n",
    "\n",
    "# 1. 댓글 삭제 페이지 GET 요청\n",
    "comments_new_url = 'https://begincoding.pythonanywhere.com/comments'\n",
    "response = session.get(comments_new_url, headers=headers)\n",
    "soup = BeautifulSoup(response.text, 'html.parser')\n",
    "\n",
    "# 2. CSRF 토큰 추출\n",
    "csrf_token = soup.find('input', {'name': 'csrf_token'})['value']\n",
    "\n",
    "data = {\n",
    "    'csrf_token': csrf_token,\n",
    "}\n",
    "\n",
    "response = session.post('https://begincoding.pythonanywhere.com/comment/1/delete', headers=headers, data=data)\n",
    "response"
   ]
  },
  {
   "cell_type": "code",
   "execution_count": 9,
   "metadata": {},
   "outputs": [
    {
     "data": {
      "text/plain": [
       "<Response [200]>"
      ]
     },
     "execution_count": 9,
     "metadata": {},
     "output_type": "execute_result"
    }
   ],
   "source": [
    "import requests\n",
    "\n",
    "cookies = {\n",
    "    'NNB': 'NVKYBCJLTZJGO',\n",
    "    'ba.uuid': 'd18d849a-6347-4272-a80a-13e2898ad92d',\n",
    "    'ASID': 'dd8d76e200000193cfab083a00000046',\n",
    "    'ab.storage.deviceId.f9c2b69f-2136-44e0-a55a-dff72d99aa19': 'g%3AMCEC5y6zeXZw2u1qcn65NDXBiYN2%7Ce%3Aundefined%7Cc%3A1734361327022%7Cl%3A1734361327022',\n",
    "    'ab.storage.sessionId.f9c2b69f-2136-44e0-a55a-dff72d99aa19': 'g%3A50421ded-3d58-106a-2fa8-6285aa547b71%7Ce%3A1734363127026%7Cc%3A1734361327026%7Cl%3A1734361327026',\n",
    "    'NAC': 'nUiIBYA2nJOt',\n",
    "    'NACT': '1',\n",
    "    'SRT30': '1734498568',\n",
    "    'SRT5': '1734498568',\n",
    "    'nid_inf': '41923831',\n",
    "    'NID_AUT': '26YvhMJRMYuMy/hTC0AJaO2B1jlZ9MGHsiH+WNBzvZmskf1xtKF868yJq3w+miUw',\n",
    "    'NID_SES': 'AAABzaHumFunncIYeq+UuoBmo9UY/16tVVcfoMDipZmHePsPyz1u2SLpAFHh4KinhAsIffusYymA6GgwLyexD3oDTpZ09PCry7kvZsWDNp+JSCz1vWlF5XzDDu76XgZEkPkqRV1hQPIFFi5fn5s8MMn624N4LTjEwA+VWmh1aOWj8GjdvkM1qBBHTk73qHIBXae6bkpemKyMdU3RpBX9hEArsz8wUK07sWv7pBqhXj2wNBcq70/z+QWyjAkfU2SrFYnl+8YV5oUw31800K823vpxZFZEVsWyn6l11j3JndDAbAuImapiiYMtlwtYE9RS1L0mnAJj5YH/40psphZiD7ZLFM4+KRnFxKu4/MJX7eFFzdG9umoaUe/wwRML9Cset7FmsOID1jTiusWhZgdPGSQGuSxM6lBNy7BTKbl3cfKmd7suyldRyh/irx+FLnZhcLOPmDzjMM9ze9Tmv+vxXMXk/53XPwxr+qB/J7tK1YqZy7uch+52LyQpP5r2ZRRffSH42I1oRzJQxgZO7byZ82lEDQo3e2/4Y5pj7Ay3sAK/Q5W4r6K+cDA5zT+KLExVvVf9zXONSK24+HrP7x53w3oisAHmq2mXyLgMNe2qqWoucbrw',\n",
    "    'NID_JKL': 'UlfAhhH8V3a8G4eZRl+0VXqqs/KDBAP79eUB3+dKUes=',\n",
    "    'BUC': '2owgKDlco8W4zuG-9xy5UYlGGBFObm0apTaSf_-vuKY=',\n",
    "}\n",
    "\n",
    "headers = {\n",
    "    'accept': 'application/json, text/plain, */*',\n",
    "    'accept-language': 'ko-KR,ko;q=0.9,en-US;q=0.8,en;q=0.7',\n",
    "    'content-type': 'application/x-www-form-urlencoded',\n",
    "    # 'cookie': 'NNB=NVKYBCJLTZJGO; ba.uuid=d18d849a-6347-4272-a80a-13e2898ad92d; ASID=dd8d76e200000193cfab083a00000046; ab.storage.deviceId.f9c2b69f-2136-44e0-a55a-dff72d99aa19=g%3AMCEC5y6zeXZw2u1qcn65NDXBiYN2%7Ce%3Aundefined%7Cc%3A1734361327022%7Cl%3A1734361327022; ab.storage.sessionId.f9c2b69f-2136-44e0-a55a-dff72d99aa19=g%3A50421ded-3d58-106a-2fa8-6285aa547b71%7Ce%3A1734363127026%7Cc%3A1734361327026%7Cl%3A1734361327026; NAC=nUiIBYA2nJOt; NACT=1; SRT30=1734498568; SRT5=1734498568; nid_inf=41923831; NID_AUT=26YvhMJRMYuMy/hTC0AJaO2B1jlZ9MGHsiH+WNBzvZmskf1xtKF868yJq3w+miUw; NID_SES=AAABzaHumFunncIYeq+UuoBmo9UY/16tVVcfoMDipZmHePsPyz1u2SLpAFHh4KinhAsIffusYymA6GgwLyexD3oDTpZ09PCry7kvZsWDNp+JSCz1vWlF5XzDDu76XgZEkPkqRV1hQPIFFi5fn5s8MMn624N4LTjEwA+VWmh1aOWj8GjdvkM1qBBHTk73qHIBXae6bkpemKyMdU3RpBX9hEArsz8wUK07sWv7pBqhXj2wNBcq70/z+QWyjAkfU2SrFYnl+8YV5oUw31800K823vpxZFZEVsWyn6l11j3JndDAbAuImapiiYMtlwtYE9RS1L0mnAJj5YH/40psphZiD7ZLFM4+KRnFxKu4/MJX7eFFzdG9umoaUe/wwRML9Cset7FmsOID1jTiusWhZgdPGSQGuSxM6lBNy7BTKbl3cfKmd7suyldRyh/irx+FLnZhcLOPmDzjMM9ze9Tmv+vxXMXk/53XPwxr+qB/J7tK1YqZy7uch+52LyQpP5r2ZRRffSH42I1oRzJQxgZO7byZ82lEDQo3e2/4Y5pj7Ay3sAK/Q5W4r6K+cDA5zT+KLExVvVf9zXONSK24+HrP7x53w3oisAHmq2mXyLgMNe2qqWoucbrw; NID_JKL=UlfAhhH8V3a8G4eZRl+0VXqqs/KDBAP79eUB3+dKUes=; BUC=2owgKDlco8W4zuG-9xy5UYlGGBFObm0apTaSf_-vuKY=',\n",
    "    'origin': 'https://cafe.naver.com',\n",
    "    'priority': 'u=1, i',\n",
    "    'referer': 'https://cafe.naver.com/ca-fe/cafes/29996707/articles/1?where=search&tc=naver_search&oldPath=%2FArticleRead.nhn%3Farticleid%3D1%26where%3Dsearch%26clubid%3D29996707%26tc%3Dnaver_search',\n",
    "    'sec-ch-ua': '\"Google Chrome\";v=\"131\", \"Chromium\";v=\"131\", \"Not_A Brand\";v=\"24\"',\n",
    "    'sec-ch-ua-mobile': '?0',\n",
    "    'sec-ch-ua-platform': '\"Windows\"',\n",
    "    'sec-fetch-dest': 'empty',\n",
    "    'sec-fetch-mode': 'cors',\n",
    "    'sec-fetch-site': 'same-site',\n",
    "    'user-agent': 'Mozilla/5.0 (Windows NT 10.0; Win64; x64) AppleWebKit/537.36 (KHTML, like Gecko) Chrome/131.0.0.0 Safari/537.36',\n",
    "    'x-cafe-product': 'pc',\n",
    "}\n",
    "\n",
    "data = {\n",
    "    'content': '히히히 나는 천재지롱',\n",
    "    'stickerId': '',\n",
    "    'cafeId': '29996707',\n",
    "    'articleId': '1',\n",
    "    'requestFrom': 'A',\n",
    "}\n",
    "\n",
    "response = requests.post(\n",
    "    'https://apis.naver.com/cafe-web/cafe-mobile/CommentPost.json',\n",
    "    cookies=cookies,\n",
    "    headers=headers,\n",
    "    data=data,\n",
    ")\n",
    "\n",
    "response"
   ]
  },
  {
   "cell_type": "code",
   "execution_count": 10,
   "metadata": {},
   "outputs": [
    {
     "name": "stdout",
     "output_type": "stream",
     "text": [
      "{\"commentId\":487188606,\"refCommentId\":487188606}\n"
     ]
    }
   ],
   "source": [
    "print(response.text)"
   ]
  }
 ],
 "metadata": {
  "kernelspec": {
   "display_name": "Python 3",
   "language": "python",
   "name": "python3"
  },
  "language_info": {
   "codemirror_mode": {
    "name": "ipython",
    "version": 3
   },
   "file_extension": ".py",
   "mimetype": "text/x-python",
   "name": "python",
   "nbconvert_exporter": "python",
   "pygments_lexer": "ipython3",
   "version": "3.12.4"
  }
 },
 "nbformat": 4,
 "nbformat_minor": 2
}
